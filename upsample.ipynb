{
  "nbformat": 4,
  "nbformat_minor": 0,
  "metadata": {
    "colab": {
      "provenance": [],
      "authorship_tag": "ABX9TyNTQ9t/trz72jU7mXCNfOFV",
      "include_colab_link": true
    },
    "kernelspec": {
      "name": "python3",
      "display_name": "Python 3"
    },
    "language_info": {
      "name": "python"
    }
  },
  "cells": [
    {
      "cell_type": "markdown",
      "metadata": {
        "id": "view-in-github",
        "colab_type": "text"
      },
      "source": [
        "<a href=\"https://colab.research.google.com/github/pksi/pyTorch_DL_models/blob/main/Upsample.ipynb\" target=\"_parent\"><img src=\"https://colab.research.google.com/assets/colab-badge.svg\" alt=\"Open In Colab\"/></a>"
      ]
    },
    {
      "cell_type": "code",
      "execution_count": 1,
      "metadata": {
        "id": "QyRsr219ifHS"
      },
      "outputs": [],
      "source": [
        "import torch\n",
        "import torch.nn as nn"
      ]
    },
    {
      "cell_type": "code",
      "source": [
        "# Create an Upsample module\n",
        "upsample = nn.Upsample(scale_factor=2, mode='bilinear', align_corners=True)\n",
        "\n",
        "# Create a sample input tensor\n",
        "input_tensor = torch.randn(1, 1, 2, 2)  # Batch size of 1, 3 channels, 4x4 spatial dimensions\n",
        "\n",
        "input_tensor"
      ],
      "metadata": {
        "colab": {
          "base_uri": "https://localhost:8080/"
        },
        "id": "EKMb-pgPijss",
        "outputId": "3b2c7962-88b3-418a-b67d-2878142891b0"
      },
      "execution_count": 10,
      "outputs": [
        {
          "output_type": "execute_result",
          "data": {
            "text/plain": [
              "tensor([[[[ 1.2913,  1.0418],\n",
              "          [ 0.6316, -0.0903]]]])"
            ]
          },
          "metadata": {},
          "execution_count": 10
        }
      ]
    },
    {
      "cell_type": "code",
      "source": [
        "# Apply the upsample operation to the input tensor\n",
        "output_tensor = upsample(input_tensor)\n",
        "\n",
        "output_tensor"
      ],
      "metadata": {
        "colab": {
          "base_uri": "https://localhost:8080/"
        },
        "id": "GQqfFv6Kitmb",
        "outputId": "d002db1b-a7e6-4630-dad1-e3b1ce46fef6"
      },
      "execution_count": 11,
      "outputs": [
        {
          "output_type": "execute_result",
          "data": {
            "text/plain": [
              "tensor([[[[ 1.2913,  1.2082,  1.1250,  1.0418],\n",
              "          [ 1.0714,  0.9358,  0.8001,  0.6644],\n",
              "          [ 0.8515,  0.6634,  0.4752,  0.2871],\n",
              "          [ 0.6316,  0.3910,  0.1503, -0.0903]]]])"
            ]
          },
          "metadata": {},
          "execution_count": 11
        }
      ]
    },
    {
      "cell_type": "code",
      "source": [],
      "metadata": {
        "id": "qSs7gaaZj0Gy"
      },
      "execution_count": null,
      "outputs": []
    }
  ]
}
